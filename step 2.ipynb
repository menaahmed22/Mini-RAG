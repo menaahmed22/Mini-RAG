{
  "nbformat": 4,
  "nbformat_minor": 0,
  "metadata": {
    "colab": {
      "provenance": []
    },
    "kernelspec": {
      "name": "python3",
      "display_name": "Python 3"
    },
    "language_info": {
      "name": "python"
    }
  },
  "cells": [
    {
      "cell_type": "code",
      "execution_count": 1,
      "metadata": {
        "id": "wf4PLCCGNUqR",
        "colab": {
          "base_uri": "https://localhost:8080/"
        },
        "outputId": "6c80c767-fa5f-4361-b206-da663aff6689"
      },
      "outputs": [
        {
          "output_type": "stream",
          "name": "stdout",
          "text": [
            "Requirement already satisfied: fastapi==0.110.2 in /usr/local/lib/python3.12/dist-packages (from -r reqirements.txt (line 1)) (0.110.2)\n",
            "Requirement already satisfied: uvicorn==0.29.0 in /usr/local/lib/python3.12/dist-packages (from uvicorn[standard]==0.29.0->-r reqirements.txt (line 2)) (0.29.0)\n",
            "Requirement already satisfied: python-multipart==0.0.9 in /usr/local/lib/python3.12/dist-packages (from -r reqirements.txt (line 3)) (0.0.9)\n",
            "Requirement already satisfied: python-dotenv==1.0.1 in /usr/local/lib/python3.12/dist-packages (from -r reqirements.txt (line 4)) (1.0.1)\n",
            "Requirement already satisfied: pydantic-settings==2.2.1 in /usr/local/lib/python3.12/dist-packages (from -r reqirements.txt (line 5)) (2.2.1)\n",
            "Requirement already satisfied: aiofiles==23.2.1 in /usr/local/lib/python3.12/dist-packages (from -r reqirements.txt (line 6)) (23.2.1)\n",
            "Requirement already satisfied: pyngrok in /usr/local/lib/python3.12/dist-packages (from -r reqirements.txt (line 7)) (7.3.0)\n",
            "Requirement already satisfied: pydantic!=1.8,!=1.8.1,!=2.0.0,!=2.0.1,!=2.1.0,<3.0.0,>=1.7.4 in /usr/local/lib/python3.12/dist-packages (from fastapi==0.110.2->-r reqirements.txt (line 1)) (2.11.7)\n",
            "Requirement already satisfied: starlette<0.38.0,>=0.37.2 in /usr/local/lib/python3.12/dist-packages (from fastapi==0.110.2->-r reqirements.txt (line 1)) (0.37.2)\n",
            "Requirement already satisfied: typing-extensions>=4.8.0 in /usr/local/lib/python3.12/dist-packages (from fastapi==0.110.2->-r reqirements.txt (line 1)) (4.15.0)\n",
            "Requirement already satisfied: click>=7.0 in /usr/local/lib/python3.12/dist-packages (from uvicorn==0.29.0->uvicorn[standard]==0.29.0->-r reqirements.txt (line 2)) (8.2.1)\n",
            "Requirement already satisfied: h11>=0.8 in /usr/local/lib/python3.12/dist-packages (from uvicorn==0.29.0->uvicorn[standard]==0.29.0->-r reqirements.txt (line 2)) (0.16.0)\n",
            "Requirement already satisfied: httptools>=0.5.0 in /usr/local/lib/python3.12/dist-packages (from uvicorn[standard]==0.29.0->-r reqirements.txt (line 2)) (0.6.4)\n",
            "Requirement already satisfied: pyyaml>=5.1 in /usr/local/lib/python3.12/dist-packages (from uvicorn[standard]==0.29.0->-r reqirements.txt (line 2)) (6.0.2)\n",
            "Requirement already satisfied: uvloop!=0.15.0,!=0.15.1,>=0.14.0 in /usr/local/lib/python3.12/dist-packages (from uvicorn[standard]==0.29.0->-r reqirements.txt (line 2)) (0.21.0)\n",
            "Requirement already satisfied: watchfiles>=0.13 in /usr/local/lib/python3.12/dist-packages (from uvicorn[standard]==0.29.0->-r reqirements.txt (line 2)) (1.1.0)\n",
            "Requirement already satisfied: websockets>=10.4 in /usr/local/lib/python3.12/dist-packages (from uvicorn[standard]==0.29.0->-r reqirements.txt (line 2)) (15.0.1)\n",
            "Requirement already satisfied: annotated-types>=0.6.0 in /usr/local/lib/python3.12/dist-packages (from pydantic!=1.8,!=1.8.1,!=2.0.0,!=2.0.1,!=2.1.0,<3.0.0,>=1.7.4->fastapi==0.110.2->-r reqirements.txt (line 1)) (0.7.0)\n",
            "Requirement already satisfied: pydantic-core==2.33.2 in /usr/local/lib/python3.12/dist-packages (from pydantic!=1.8,!=1.8.1,!=2.0.0,!=2.0.1,!=2.1.0,<3.0.0,>=1.7.4->fastapi==0.110.2->-r reqirements.txt (line 1)) (2.33.2)\n",
            "Requirement already satisfied: typing-inspection>=0.4.0 in /usr/local/lib/python3.12/dist-packages (from pydantic!=1.8,!=1.8.1,!=2.0.0,!=2.0.1,!=2.1.0,<3.0.0,>=1.7.4->fastapi==0.110.2->-r reqirements.txt (line 1)) (0.4.1)\n",
            "Requirement already satisfied: anyio<5,>=3.4.0 in /usr/local/lib/python3.12/dist-packages (from starlette<0.38.0,>=0.37.2->fastapi==0.110.2->-r reqirements.txt (line 1)) (4.10.0)\n",
            "Requirement already satisfied: idna>=2.8 in /usr/local/lib/python3.12/dist-packages (from anyio<5,>=3.4.0->starlette<0.38.0,>=0.37.2->fastapi==0.110.2->-r reqirements.txt (line 1)) (3.10)\n",
            "Requirement already satisfied: sniffio>=1.1 in /usr/local/lib/python3.12/dist-packages (from anyio<5,>=3.4.0->starlette<0.38.0,>=0.37.2->fastapi==0.110.2->-r reqirements.txt (line 1)) (1.3.1)\n"
          ]
        }
      ],
      "source": [
        "!pip install -r reqirements.txt"
      ]
    },
    {
      "cell_type": "code",
      "source": [
        "from google.colab import userdata\n",
        "from pyngrok import ngrok\n",
        "\n",
        "NGROK_AUTH_TOKEN = userdata.get(\"NGROK_AUTH_TOKEN\")\n",
        "ngrok.set_auth_token(NGROK_AUTH_TOKEN)"
      ],
      "metadata": {
        "id": "4uiv8YWtw9Ni"
      },
      "execution_count": 2,
      "outputs": []
    },
    {
      "cell_type": "code",
      "source": [
        "!python main.py\n",
        "from main import app"
      ],
      "metadata": {
        "colab": {
          "base_uri": "https://localhost:8080/"
        },
        "id": "NCFYILk_iw_O",
        "outputId": "cfe55ab5-a7be-4635-862b-3675078ab80f"
      },
      "execution_count": 3,
      "outputs": [
        {
          "output_type": "stream",
          "name": "stdout",
          "text": [
            "\u001b[32mINFO\u001b[0m:     Started server process [\u001b[36m5287\u001b[0m]\n",
            "\u001b[32mINFO\u001b[0m:     Waiting for application startup.\n",
            "\u001b[32mINFO\u001b[0m:     Application startup complete.\n",
            "\u001b[32mINFO\u001b[0m:     Uvicorn running on \u001b[1mhttp://0.0.0.0:8000\u001b[0m (Press CTRL+C to quit)\n",
            "Public URL: NgrokTunnel: \"https://cdfcf3185bb9.ngrok-free.app\" -> \"http://localhost:8000\"\n"
          ]
        },
        {
          "output_type": "stream",
          "name": "stderr",
          "text": [
            "INFO:     Started server process [5173]\n",
            "INFO:     Waiting for application startup.\n",
            "INFO:     Application startup complete.\n",
            "INFO:     Uvicorn running on http://0.0.0.0:8000 (Press CTRL+C to quit)\n"
          ]
        },
        {
          "output_type": "stream",
          "name": "stdout",
          "text": [
            "Public URL: NgrokTunnel: \"https://a9a48d9b0846.ngrok-free.app\" -> \"http://localhost:8000\"\n"
          ]
        }
      ]
    }
  ]
}